{
  "cells": [
    {
      "cell_type": "code",
      "execution_count": 1,
      "metadata": {
        "id": "DOPd52CAeGiJ"
      },
      "outputs": [],
      "source": [
        "import numpy as np\n",
        "import pandas as pd\n",
        "import matplotlib.pyplot as plt\n",
        "import seaborn as sns\n",
        "import warnings\n",
        "warnings.filterwarnings('ignore')\n",
        "import spacy\n",
        "import nltk"
      ]
    },
    {
      "cell_type": "code",
      "execution_count": 62,
      "metadata": {
        "id": "8OjIb644etCn"
      },
      "outputs": [],
      "source": [
        "doc = spacy.load('en_core_web_sm')\n",
        "doc2 = spacy.blank(\"zh\") # Chinese"
      ]
    },
    {
      "cell_type": "code",
      "execution_count": 13,
      "metadata": {
        "id": "DLD8zuMdeyuE"
      },
      "outputs": [],
      "source": [
        "text = \"Building Generative AI Applications is jointly offered by The Open University of Kenya (OUK) and BCS Technology International Pty Limited, Australia. \""
      ]
    },
    {
      "cell_type": "code",
      "execution_count": 15,
      "metadata": {
        "id": "unTd2EOLfkKO"
      },
      "outputs": [],
      "source": [
        "nlp = doc(text)"
      ]
    },
    {
      "cell_type": "code",
      "execution_count": 16,
      "metadata": {
        "colab": {
          "base_uri": "https://localhost:8080/"
        },
        "id": "aveFz04LgHbQ",
        "outputId": "0a4787f2-2be4-448f-f837-d9c29795361d"
      },
      "outputs": [
        {
          "name": "stdout",
          "output_type": "stream",
          "text": [
            "Building\n",
            "Generative\n",
            "AI\n",
            "Applications\n",
            "is\n",
            "jointly\n",
            "offered\n",
            "by\n",
            "The\n",
            "Open\n",
            "University\n",
            "of\n",
            "Kenya\n",
            "(\n",
            "OUK\n",
            ")\n",
            "and\n",
            "BCS\n",
            "Technology\n",
            "International\n",
            "Pty\n",
            "Limited\n",
            ",\n",
            "Australia\n",
            ".\n"
          ]
        }
      ],
      "source": [
        "for token in nlp:\n",
        "  print(token)"
      ]
    },
    {
      "cell_type": "code",
      "execution_count": 17,
      "metadata": {
        "id": "R1miUh39gcfP"
      },
      "outputs": [],
      "source": [
        "nlp2 = doc2(text)"
      ]
    },
    {
      "cell_type": "code",
      "execution_count": 19,
      "metadata": {
        "colab": {
          "base_uri": "https://localhost:8080/"
        },
        "id": "r2O8j1mmgjTq",
        "outputId": "cc8b83e3-ab2d-4195-958e-f067a294e398"
      },
      "outputs": [
        {
          "name": "stdout",
          "output_type": "stream",
          "text": [
            "Building\n",
            "Generative\n",
            "AI\n",
            "Applications\n",
            "is\n",
            "jointly\n",
            "offered\n",
            "by\n",
            "The\n",
            "Open\n",
            "University\n",
            "of\n",
            "Kenya\n",
            "(\n",
            "OUK\n",
            ")\n",
            "and\n",
            "BCS\n",
            "Technology\n",
            "International\n",
            "Pty\n",
            "Limited\n",
            ",\n",
            "Australia\n",
            ".\n"
          ]
        }
      ],
      "source": [
        "for token in nlp:\n",
        "  print(token)"
      ]
    },
    {
      "cell_type": "code",
      "execution_count": 20,
      "metadata": {
        "colab": {
          "base_uri": "https://localhost:8080/"
        },
        "id": "xRgZeLv9kzhd",
        "outputId": "d8ec6367-b0dd-4871-cd0d-c89e0c5624e4"
      },
      "outputs": [
        {
          "data": {
            "text/plain": [
              "['_',\n",
              " '__bytes__',\n",
              " '__class__',\n",
              " '__delattr__',\n",
              " '__dir__',\n",
              " '__doc__',\n",
              " '__eq__',\n",
              " '__format__',\n",
              " '__ge__',\n",
              " '__getattribute__',\n",
              " '__getitem__',\n",
              " '__getstate__',\n",
              " '__gt__',\n",
              " '__hash__',\n",
              " '__init__',\n",
              " '__init_subclass__',\n",
              " '__iter__',\n",
              " '__le__',\n",
              " '__len__',\n",
              " '__lt__',\n",
              " '__ne__',\n",
              " '__new__',\n",
              " '__pyx_vtable__',\n",
              " '__reduce__',\n",
              " '__reduce_ex__',\n",
              " '__repr__',\n",
              " '__setattr__',\n",
              " '__setstate__',\n",
              " '__sizeof__',\n",
              " '__str__',\n",
              " '__subclasshook__',\n",
              " '__unicode__',\n",
              " '_bulk_merge',\n",
              " '_context',\n",
              " '_get_array_attrs',\n",
              " '_realloc',\n",
              " '_vector',\n",
              " '_vector_norm',\n",
              " 'cats',\n",
              " 'char_span',\n",
              " 'copy',\n",
              " 'count_by',\n",
              " 'doc',\n",
              " 'ents',\n",
              " 'extend_tensor',\n",
              " 'from_array',\n",
              " 'from_bytes',\n",
              " 'from_dict',\n",
              " 'from_disk',\n",
              " 'from_docs',\n",
              " 'from_json',\n",
              " 'get_extension',\n",
              " 'get_lca_matrix',\n",
              " 'has_annotation',\n",
              " 'has_extension',\n",
              " 'has_unknown_spaces',\n",
              " 'has_vector',\n",
              " 'is_nered',\n",
              " 'is_parsed',\n",
              " 'is_sentenced',\n",
              " 'is_tagged',\n",
              " 'lang',\n",
              " 'lang_',\n",
              " 'mem',\n",
              " 'noun_chunks',\n",
              " 'noun_chunks_iterator',\n",
              " 'remove_extension',\n",
              " 'retokenize',\n",
              " 'sentiment',\n",
              " 'sents',\n",
              " 'set_ents',\n",
              " 'set_extension',\n",
              " 'similarity',\n",
              " 'spans',\n",
              " 'tensor',\n",
              " 'text',\n",
              " 'text_with_ws',\n",
              " 'to_array',\n",
              " 'to_bytes',\n",
              " 'to_dict',\n",
              " 'to_disk',\n",
              " 'to_json',\n",
              " 'to_utf8_array',\n",
              " 'user_data',\n",
              " 'user_hooks',\n",
              " 'user_span_hooks',\n",
              " 'user_token_hooks',\n",
              " 'vector',\n",
              " 'vector_norm',\n",
              " 'vocab']"
            ]
          },
          "execution_count": 20,
          "metadata": {},
          "output_type": "execute_result"
        }
      ],
      "source": [
        "dir(nlp)"
      ]
    },
    {
      "cell_type": "code",
      "execution_count": 21,
      "metadata": {
        "colab": {
          "base_uri": "https://localhost:8080/"
        },
        "id": "J9cZpgf9lZtY",
        "outputId": "c52855ee-db78-4f6e-fc5e-ca8bce720688"
      },
      "outputs": [
        {
          "data": {
            "text/plain": [
              "['Defaults',\n",
              " '__annotations__',\n",
              " '__call__',\n",
              " '__class__',\n",
              " '__delattr__',\n",
              " '__dict__',\n",
              " '__dir__',\n",
              " '__doc__',\n",
              " '__eq__',\n",
              " '__format__',\n",
              " '__ge__',\n",
              " '__getattribute__',\n",
              " '__getstate__',\n",
              " '__gt__',\n",
              " '__hash__',\n",
              " '__init__',\n",
              " '__init_subclass__',\n",
              " '__le__',\n",
              " '__lt__',\n",
              " '__module__',\n",
              " '__ne__',\n",
              " '__new__',\n",
              " '__reduce__',\n",
              " '__reduce_ex__',\n",
              " '__repr__',\n",
              " '__setattr__',\n",
              " '__sizeof__',\n",
              " '__str__',\n",
              " '__subclasshook__',\n",
              " '__weakref__',\n",
              " '_components',\n",
              " '_config',\n",
              " '_disabled',\n",
              " '_ensure_doc',\n",
              " '_ensure_doc_with_context',\n",
              " '_factory_meta',\n",
              " '_get_pipe_index',\n",
              " '_has_gpu_model',\n",
              " '_link_components',\n",
              " '_meta',\n",
              " '_multiprocessing_pipe',\n",
              " '_optimizer',\n",
              " '_path',\n",
              " '_pipe_configs',\n",
              " '_pipe_meta',\n",
              " '_resolve_component_status',\n",
              " 'add_pipe',\n",
              " 'analyze_pipes',\n",
              " 'batch_size',\n",
              " 'begin_training',\n",
              " 'component',\n",
              " 'component_names',\n",
              " 'components',\n",
              " 'config',\n",
              " 'create_optimizer',\n",
              " 'create_pipe',\n",
              " 'create_pipe_from_source',\n",
              " 'default_config',\n",
              " 'default_error_handler',\n",
              " 'disable_pipe',\n",
              " 'disable_pipes',\n",
              " 'disabled',\n",
              " 'enable_pipe',\n",
              " 'evaluate',\n",
              " 'factories',\n",
              " 'factory',\n",
              " 'factory_names',\n",
              " 'from_bytes',\n",
              " 'from_config',\n",
              " 'from_disk',\n",
              " 'get_factory_meta',\n",
              " 'get_factory_name',\n",
              " 'get_pipe',\n",
              " 'get_pipe_config',\n",
              " 'get_pipe_meta',\n",
              " 'has_factory',\n",
              " 'has_pipe',\n",
              " 'initialize',\n",
              " 'lang',\n",
              " 'make_doc',\n",
              " 'max_length',\n",
              " 'memory_zone',\n",
              " 'meta',\n",
              " 'path',\n",
              " 'pipe',\n",
              " 'pipe_factories',\n",
              " 'pipe_labels',\n",
              " 'pipe_names',\n",
              " 'pipeline',\n",
              " 'rehearse',\n",
              " 'remove_pipe',\n",
              " 'rename_pipe',\n",
              " 'replace_listeners',\n",
              " 'replace_pipe',\n",
              " 'resume_training',\n",
              " 'select_pipes',\n",
              " 'set_error_handler',\n",
              " 'set_factory_meta',\n",
              " 'to_bytes',\n",
              " 'to_disk',\n",
              " 'tokenizer',\n",
              " 'update',\n",
              " 'use_params',\n",
              " 'vocab']"
            ]
          },
          "execution_count": 21,
          "metadata": {},
          "output_type": "execute_result"
        }
      ],
      "source": [
        "dir(doc)"
      ]
    },
    {
      "cell_type": "code",
      "execution_count": 26,
      "metadata": {
        "id": "6DHlnpEfl_Jw"
      },
      "outputs": [],
      "source": [
        "doc3 = \"give me two dollars\"\n",
        "doc3 = doc(doc3)"
      ]
    },
    {
      "cell_type": "code",
      "execution_count": 27,
      "metadata": {
        "colab": {
          "base_uri": "https://localhost:8080/",
          "height": 35
        },
        "id": "BMymfq0-mGXy",
        "outputId": "aed54094-c3b8-44ad-e330-896d2c4841b6"
      },
      "outputs": [
        {
          "data": {
            "application/vnd.google.colaboratory.intrinsic+json": {
              "type": "string"
            },
            "text/plain": [
              "'two'"
            ]
          },
          "execution_count": 27,
          "metadata": {},
          "output_type": "execute_result"
        }
      ],
      "source": [
        "token1 = doc3[2]\n",
        "token1.text"
      ]
    },
    {
      "cell_type": "code",
      "execution_count": 28,
      "metadata": {
        "colab": {
          "base_uri": "https://localhost:8080/"
        },
        "id": "Y368jciwmrFx",
        "outputId": "5f812c1d-0790-4042-ff63-a78026255751"
      },
      "outputs": [
        {
          "data": {
            "text/plain": [
              "True"
            ]
          },
          "execution_count": 28,
          "metadata": {},
          "output_type": "execute_result"
        }
      ],
      "source": [
        "token1.like_num"
      ]
    },
    {
      "cell_type": "code",
      "execution_count": 36,
      "metadata": {
        "id": "9bwMXgYGqNs-"
      },
      "outputs": [],
      "source": [
        "sent = \"While reviewing the project updates, I noticed contributions flowing in from different corners—some detailed insights were shared by emmayomiabiola@gmail.com, \" \\\n",
        "       \"while follow-up notes came from btosin241@gmail.com and asiekwuoluwatobiloba@gmail.com. Interestingly, alliomolara4@gmail.com connected with serahadenuga5@gmail.com \" \\\n",
        "       \"to refine the proposal, and seraphina2070@gmail.com added thoughtful edits that echoed earlier suggestions from Ibukunoluwa Popoola. Alongside them, AMISSAH REUBEN \" \\\n",
        "       \"provided data validations, and bridgetngugia9@gmail.com closed the loop with a summary that tied everything together seamlessly.\""
      ]
    },
    {
      "cell_type": "code",
      "execution_count": 37,
      "metadata": {
        "id": "zuhAkeHkqRab"
      },
      "outputs": [],
      "source": [
        "doc4 = doc(sent)"
      ]
    },
    {
      "cell_type": "code",
      "execution_count": 40,
      "metadata": {
        "colab": {
          "base_uri": "https://localhost:8080/"
        },
        "id": "QVq-m0Jprn5Z",
        "outputId": "d4f0f180-74a2-4707-f73c-20ebae2016a3"
      },
      "outputs": [
        {
          "data": {
            "text/plain": [
              "['emmayomiabiola@gmail.com',\n",
              " 'btosin241@gmail.com',\n",
              " 'asiekwuoluwatobiloba@gmail.com',\n",
              " 'alliomolara4@gmail.com',\n",
              " 'serahadenuga5@gmail.com',\n",
              " 'seraphina2070@gmail.com',\n",
              " 'bridgetngugia9@gmail.com']"
            ]
          },
          "execution_count": 40,
          "metadata": {},
          "output_type": "execute_result"
        }
      ],
      "source": [
        "email = []\n",
        "\n",
        "for token in doc4:\n",
        "  if token.like_email:\n",
        "    email.append(token.text)\n",
        "\n",
        "email"
      ]
    },
    {
      "cell_type": "code",
      "execution_count": 51,
      "metadata": {
        "id": "3S7U1V60wizy"
      },
      "outputs": [],
      "source": [
        "doc2 = spacy.blank(\"en\")"
      ]
    },
    {
      "cell_type": "code",
      "execution_count": 48,
      "metadata": {
        "id": "h9ECRWPmtYf2"
      },
      "outputs": [],
      "source": [
        "sent1 = \"Dr. Anthony is teaching GenAI programming. Student are happy with the way he teaches!\""
      ]
    },
    {
      "cell_type": "code",
      "execution_count": 63,
      "metadata": {
        "colab": {
          "base_uri": "https://localhost:8080/"
        },
        "id": "Lq0yGfDztSfH",
        "outputId": "ef58f7e3-89c8-426a-d9e0-495451415f4d"
      },
      "outputs": [
        {
          "name": "stdout",
          "output_type": "stream",
          "text": [
            "Dr. Anthony is teaching GenAI programming.\n",
            "Student are happy with the way he teaches!\n"
          ]
        }
      ],
      "source": [
        "doc6 = doc(sent1)\n",
        "\n",
        "for token in doc6.sents:\n",
        "  print(token)"
      ]
    },
    {
      "cell_type": "code",
      "execution_count": 64,
      "metadata": {
        "id": "FxR8Q7kPyKUH"
      },
      "outputs": [],
      "source": [
        "url = \"\"\"While exploring new resources, I browsed through https://example.com,\n",
        "took notes from https://datainsights.org,\n",
        "checked updates on https://openai.com,\n",
        "bookmarked https://pythonweekly.com,\n",
        "reviewed tools on https://github.com,\n",
        "signed up at https://kaggle.com,\n",
        "skimmed articles from https://towardsdatascience.com,\n",
        "explored documentation on https://pandas.pydata.org,\n",
        "downloaded examples from https://scikit-learn.org,\n",
        "and finally compared results with tutorials at https://realpython.com.\"\"\""
      ]
    },
    {
      "cell_type": "code",
      "execution_count": 66,
      "metadata": {
        "colab": {
          "base_uri": "https://localhost:8080/"
        },
        "id": "xdS1TFTKyVeC",
        "outputId": "4d9e00d1-9c2a-4869-ccb5-775aaf14c8ee"
      },
      "outputs": [
        {
          "name": "stdout",
          "output_type": "stream",
          "text": [
            "https://example.com\n",
            "https://datainsights.org\n",
            "https://openai.com\n",
            "https://pythonweekly.com\n",
            "https://github.com\n",
            "https://kaggle.com\n",
            "https://towardsdatascience.com\n",
            "https://pandas.pydata.org\n",
            "https://scikit-learn.org\n",
            "https://realpython.com\n"
          ]
        }
      ],
      "source": [
        "doc7 = doc(url)\n",
        "\n",
        "for token in doc7:\n",
        "  if token.like_url:\n",
        "    print(token)"
      ]
    },
    {
      "cell_type": "code",
      "execution_count": 69,
      "metadata": {
        "id": "iYeLl-pkzLWE"
      },
      "outputs": [],
      "source": [
        "transaction = \"Tony gave two $ David, Steve gave 55 € to Don\"\n",
        "doc8 = doc(transaction)"
      ]
    },
    {
      "cell_type": "code",
      "execution_count": 71,
      "metadata": {
        "colab": {
          "base_uri": "https://localhost:8080/"
        },
        "id": "Hjkuh5Oi0Eso",
        "outputId": "10a00ffc-8fee-4230-9286-d3c1127e190c"
      },
      "outputs": [
        {
          "name": "stdout",
          "output_type": "stream",
          "text": [
            "two $\n",
            "55 €\n"
          ]
        }
      ],
      "source": [
        "for token in doc8:\n",
        "  if token.like_num and doc8[token.i+1].is_currency:\n",
        "    print(token.text, doc8[token.i+1].text)"
      ]
    }
  ],
  "metadata": {
    "colab": {
      "authorship_tag": "ABX9TyPSQGd86yJWHXTZICcyXMus",
      "provenance": []
    },
    "kernelspec": {
      "display_name": "venv (3.12.2)",
      "language": "python",
      "name": "python3"
    },
    "language_info": {
      "name": "python",
      "version": "3.12.2"
    }
  },
  "nbformat": 4,
  "nbformat_minor": 0
}
