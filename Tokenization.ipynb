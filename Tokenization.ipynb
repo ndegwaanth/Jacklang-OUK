{
  "nbformat": 4,
  "nbformat_minor": 0,
  "metadata": {
    "colab": {
      "provenance": [],
      "authorship_tag": "ABX9TyMwB9fr6bJ99yO6JeEsn1Q0"
    },
    "kernelspec": {
      "name": "python3",
      "display_name": "Python 3"
    },
    "language_info": {
      "name": "python"
    }
  },
  "cells": [
    {
      "cell_type": "code",
      "source": [
        "import numpy as np\n",
        "import pandas as pd\n",
        "import matplotlib.pyplot as plt\n",
        "import seaborn as sns\n",
        "import warnings\n",
        "warnings.filterwarnings('ignore')\n",
        "import spacy\n",
        "import nltk"
      ],
      "metadata": {
        "id": "DOPd52CAeGiJ"
      },
      "execution_count": 1,
      "outputs": []
    },
    {
      "cell_type": "code",
      "source": [
        "doc = spacy.load('en_core_web_sm')\n",
        "doc2 = spacy.blank(\"zh\") # Chinese"
      ],
      "metadata": {
        "id": "8OjIb644etCn"
      },
      "execution_count": 12,
      "outputs": []
    },
    {
      "cell_type": "code",
      "source": [
        "text = \"Building Generative AI Applications is jointly offered by The Open University of Kenya (OUK) and BCS Technology International Pty Limited, Australia. \""
      ],
      "metadata": {
        "id": "DLD8zuMdeyuE"
      },
      "execution_count": 13,
      "outputs": []
    },
    {
      "cell_type": "code",
      "source": [
        "nlp = doc(text)"
      ],
      "metadata": {
        "id": "unTd2EOLfkKO"
      },
      "execution_count": 15,
      "outputs": []
    },
    {
      "cell_type": "code",
      "source": [
        "for token in nlp:\n",
        "  print(token)"
      ],
      "metadata": {
        "colab": {
          "base_uri": "https://localhost:8080/"
        },
        "id": "aveFz04LgHbQ",
        "outputId": "0a4787f2-2be4-448f-f837-d9c29795361d"
      },
      "execution_count": 16,
      "outputs": [
        {
          "output_type": "stream",
          "name": "stdout",
          "text": [
            "Building\n",
            "Generative\n",
            "AI\n",
            "Applications\n",
            "is\n",
            "jointly\n",
            "offered\n",
            "by\n",
            "The\n",
            "Open\n",
            "University\n",
            "of\n",
            "Kenya\n",
            "(\n",
            "OUK\n",
            ")\n",
            "and\n",
            "BCS\n",
            "Technology\n",
            "International\n",
            "Pty\n",
            "Limited\n",
            ",\n",
            "Australia\n",
            ".\n"
          ]
        }
      ]
    },
    {
      "cell_type": "code",
      "source": [
        "nlp2 = doc2(text)"
      ],
      "metadata": {
        "id": "R1miUh39gcfP"
      },
      "execution_count": 17,
      "outputs": []
    },
    {
      "cell_type": "code",
      "source": [
        "for token in nlp:\n",
        "  print(token)"
      ],
      "metadata": {
        "colab": {
          "base_uri": "https://localhost:8080/"
        },
        "id": "r2O8j1mmgjTq",
        "outputId": "cc8b83e3-ab2d-4195-958e-f067a294e398"
      },
      "execution_count": 19,
      "outputs": [
        {
          "output_type": "stream",
          "name": "stdout",
          "text": [
            "Building\n",
            "Generative\n",
            "AI\n",
            "Applications\n",
            "is\n",
            "jointly\n",
            "offered\n",
            "by\n",
            "The\n",
            "Open\n",
            "University\n",
            "of\n",
            "Kenya\n",
            "(\n",
            "OUK\n",
            ")\n",
            "and\n",
            "BCS\n",
            "Technology\n",
            "International\n",
            "Pty\n",
            "Limited\n",
            ",\n",
            "Australia\n",
            ".\n"
          ]
        }
      ]
    },
    {
      "cell_type": "code",
      "source": [],
      "metadata": {
        "id": "xRgZeLv9kzhd"
      },
      "execution_count": null,
      "outputs": []
    }
  ]
}